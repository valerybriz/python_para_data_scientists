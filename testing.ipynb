{
 "cells": [
  {
   "cell_type": "markdown",
   "metadata": {},
   "source": [
    "# Testing en Python"
   ]
  },
  {
   "cell_type": "markdown",
   "metadata": {},
   "source": [
    "## Objetivos"
   ]
  },
  {
   "cell_type": "markdown",
   "metadata": {},
   "source": [
    "* Crear Unit tests con Pytest\n",
    "* Comprender el concepto de Tests Coverage\n",
    "* Comprender la importancia de los tests en Desarrollo de Software\n",
    "* Comprender el concepto de Mocking"
   ]
  },
  {
   "cell_type": "markdown",
   "metadata": {},
   "source": [
    " ## Introducción "
   ]
  },
  {
   "cell_type": "markdown",
   "metadata": {},
   "source": [
    "Desde tiempos inmemoriales hemos sabido que los errores son inherentes a la naturaleza humana. Pero lo importante es aprender de ellos y evitar que se repitan. Pero esto es más fácil de decir que de hacer, porque para eso hay que reconocer de antemano que no somos perfectos y tener la humildad suficiente como para aceptarlo, así como la determinación de seguir adelante. \n",
    "Tomando esto en cuenta, sabemos que al momento de desarrollar una solución de software podemos equivocarnos y para adelantarnos a los errores es muy util hacer pruebas antes de que el código llegue a producción.\n",
    "Algunas de las principales razones para realizar pruebas son las siguientes:\n",
    "\n",
    "* Es absolutamente esencial para identificar los errores que se han cometido en las fases de desarrollo.\n",
    "* Garantiza que el software es fiable y asegura la satisfacción del cliente.\n",
    "* Garantiza la calidad del producto, lo que en última instancia permite fidelizar al cliente.\n",
    "* Reduce los costes de mantenimiento.\n",
    "\n",
    "## Unit Tests\n",
    "Es una forma de comprobar que un conjunto de funciones o clases (tantas como queramos) funcionan como esperamos. Lógicamente, las pruebas unitarias nunca pueden garantizar completamente el correcto funcionamiento de una porción de código. No obstante ello, serán capaces de detectar gran cantidad de anomalías y de ahorrarnos tiempo de depuración.\n",
    "\n",
    "En este caso utilizaremos [pytest](https://docs.pytest.org/en/latest/) para realizar de forma más sencilla los tests.\n",
    "\n",
    "## Integration Tests\n",
    "Las pruebas de integración verifican que los diferentes módulos y/o servicios usados por nuestra aplicación funcionen en armonía cuando trabajan en conjunto.\n",
    "\n",
    "Pueden probar la interacción con una o múltples bases de datos, o asegurar que los microservicios operen como se espera.\n",
    "Las pruebas de integración son típicamente el paso siguiente a las pruebas unitarias.\n",
    "\n",
    "Y son generalmente más costosas de ejecutar, ya que requieren que más partes de nuestra aplicación se configuren y se encuentren en funcionamiento.\n",
    "\n",
    "## Mocking\n",
    "En la Programación Orientada a Objetos (POO) se llaman Mock a los objetos que imitan el comportamiento de objetos reales de una forma controlada. Se usan para probar a otros objetos en test unitarios que esperan mensajes de una clase en particular para sus métodos, al igual que los diseñadores de autos usan un crash dummy cuando simulan un accidente. \n",
    "En los test unitarios, los objetos simulados se usan para simular el comportamiento de objetos complejos cuando es imposible o impracticable usar al objeto real en la prueba. De paso resuelve el problema del caso de objetos interdependientes, que para probar el primero debe ser usado un objeto no probado aún, lo que invalida la prueba: los objetos simulados son muy simples de construir y devuelven un resultado determinado y de implementación directa, independientemente de los complejos procesos o interacciones que el objeto real pueda tener."
   ]
  },
  {
   "cell_type": "markdown",
   "metadata": {},
   "source": [
    "Primero vamos a instalar pytest con el comando `pip3 install pytest`  \n",
    "Y crearemos un archivo llamado test_ejemplo.py  \n",
    "**Notese que los archivos de código que contienen tests SIEMPRE deben de llevar el prefijo test_**  \n",
    "a nuestro archivo le pegaremos el siguiente código:\n",
    " "
   ]
  },
  {
   "cell_type": "code",
   "execution_count": 11,
   "metadata": {},
   "outputs": [],
   "source": [
    "# conido de test_ejemplo.py\n",
    "def suma(x):\n",
    "    return x + 1\n",
    "\n",
    "def suma_lista(lista):\n",
    "    return sum(lista)\n",
    "\n",
    "def test_suma_lista():\n",
    "    assert suma_lista([1, 2, 3]) == 6, \"Debería ser  6\"\n",
    "\n",
    "def test_suma():\n",
    "    print(\"Test de suma\")\n",
    "    assert suma(3) == 4, \"Debería ser 4\""
   ]
  },
  {
   "cell_type": "markdown",
   "metadata": {},
   "source": [
    "y luego en la terminal ejecutaremos el siguiente comando para indicarle a pytest que archivo en específico queremos probar:  \n",
    "`pytest test_ejemplo.py`  "
   ]
  },
  {
   "cell_type": "markdown",
   "metadata": {},
   "source": [
    "Puede que en algunos tests se quiera que la función falle, esto nos ayuda a saber que aunque se envió una información incorrecta o que se usó de manera incorrecta la función esta no se comporta de una manera erronea (dejando pasar el error por ejemplo)"
   ]
  },
  {
   "cell_type": "code",
   "execution_count": 14,
   "metadata": {},
   "outputs": [],
   "source": [
    "def test_zero_division():\n",
    "    with pytest.raises(ZeroDivisionError):\n",
    "        1/0\n",
    "        \n",
    "def test_recursion_depth():\n",
    "    with pytest.raises(RuntimeError) as excinfo:\n",
    "        def f():\n",
    "            f()\n",
    "        f()\n",
    "    assert 'maxima recursión' in str(excinfo.value)\n",
    "    \n",
    "def divide(number_one, number_two):\n",
    "    if number_two == 0:\n",
    "        raise ValueError('No se puede dividir con este valor')\n",
    "    return number_one / number_two\n",
    " \n",
    "def test_zero_division():\n",
    "    with pytest.raises(ValueError) as e:\n",
    "        divide(1, 0)\n",
    "    assert str(e.value) == 'No se puede dividir con este valor' "
   ]
  },
  {
   "cell_type": "markdown",
   "metadata": {},
   "source": [
    "Ejercicio:  \n",
    "    Tomando en cuenta el siguiente código que detecta si un número pertenece a la suceción de fibonacci, vamos a crear los tests necesarios para probar la función.  \n",
    "    Recuerden guardar esta función en un archivo distinto que el test lo que quiere decir que tenemos que importar el código de esta función a nuestro archivo de los tests."
   ]
  },
  {
   "cell_type": "code",
   "execution_count": 17,
   "metadata": {},
   "outputs": [
    {
     "name": "stdout",
     "output_type": "stream",
     "text": [
      "1 Es un número de fibonacci\n",
      "2 Es un número de fibonacci\n",
      "3 Es un número de fibonacci\n",
      "4 No es un número de fibonacci\n",
      "5 Es un número de fibonacci\n",
      "6 No es un número de fibonacci\n",
      "7 No es un número de fibonacci\n",
      "8 Es un número de fibonacci\n",
      "9 No es un número de fibonacci\n",
      "10 No es un número de fibonacci\n"
     ]
    }
   ],
   "source": [
    "import math \n",
    "  \n",
    "def isPerfectSquare(x): \n",
    "    s = int(math.sqrt(x)) \n",
    "    return s*s == x \n",
    "  \n",
    "# Retorna true si n es un numero de Fibonacci  \n",
    "def isFibonacci(n): \n",
    "    \n",
    "    # n es Fibonacci si uno de 5*n*n + 4 o 5*n*n - 4 o ambos\n",
    "    # es un cuadrado perfecto\n",
    "    return isPerfectSquare(5*n*n + 4) or isPerfectSquare(5*n*n - 4) \n",
    "     \n",
    "for i in range(1,11): \n",
    "    if (isFibonacci(i) == True): \n",
    "        print(i,\"Es un número de fibonacci\")\n",
    "    else: \n",
    "        print(i,\"No es un número de fibonacci\")"
   ]
  },
  {
   "cell_type": "markdown",
   "metadata": {},
   "source": [
    "## Highligts"
   ]
  },
  {
   "cell_type": "markdown",
   "metadata": {},
   "source": []
  },
  {
   "cell_type": "markdown",
   "metadata": {},
   "source": [
    "## Bibliografía"
   ]
  },
  {
   "cell_type": "markdown",
   "metadata": {},
   "source": [
    "https://www.docpath.com/art-the-importance-of-testing-your-software-development/ La importancia del testing 2019  \n",
    "https://recursospython.com/guias-y-manuales/unit-testing-doc-testing/ Prueba unitaria (Unit testing) 2016  \n",
    "https://docs.python.org/3/library/unittest.html unittest 2019  "
   ]
  },
  {
   "cell_type": "code",
   "execution_count": null,
   "metadata": {},
   "outputs": [],
   "source": []
  }
 ],
 "metadata": {
  "kernelspec": {
   "display_name": "Python 3",
   "language": "python",
   "name": "python3"
  },
  "language_info": {
   "codemirror_mode": {
    "name": "ipython",
    "version": 3
   },
   "file_extension": ".py",
   "mimetype": "text/x-python",
   "name": "python",
   "nbconvert_exporter": "python",
   "pygments_lexer": "ipython3",
   "version": "3.7.4"
  }
 },
 "nbformat": 4,
 "nbformat_minor": 4
}
