{
 "cells": [
  {
   "cell_type": "markdown",
   "metadata": {},
   "source": [
    "# Estrategias para debugging"
   ]
  },
  {
   "cell_type": "markdown",
   "metadata": {},
   "source": [
    "## Objetivos"
   ]
  },
  {
   "cell_type": "markdown",
   "metadata": {},
   "source": [
    "* Facilitar la busqueda y solución de errores en el código\n",
    "* Inspeccionar a profundidad la ejecución de un proceso\n",
    "* Conocer las principales herramientas para hacer interrupciones en ejecución"
   ]
  },
  {
   "cell_type": "markdown",
   "metadata": {},
   "source": [
    " ## Introducción "
   ]
  },
  {
   "cell_type": "markdown",
   "metadata": {},
   "source": [
    "Un debugger es una herramienta que nos ayuda a ejecutar un script o sistema una línea a la vez. Por lo tanto, podemos ver que exactamente está sucediendo al momento de la ejecución.\n",
    "\n",
    "Podríamos pensar que el debugger es una especie de playback, sobre lo que acaba de suceder pero en camara lenta, para tener detalles mucho más claros. \n",
    "\n",
    "El uso adecuado del debugger es esencial para encontrar errores semánticos (lógicos) en el comportamiento de su programa. Usar las herramientas que nos da el debugger reduce en gran manera el tiempo que tardamos en encontrar los errores y corregirlos.\n"
   ]
  },
  {
   "cell_type": "markdown",
   "metadata": {},
   "source": [
    "### Cargando código desde un archivo"
   ]
  },
  {
   "cell_type": "markdown",
   "metadata": {},
   "source": [
    "Antes que nada vamos a cargar un archivo que contiene los scripts de prueba, para poder aplicar los ejemplos, para lograr esto vamos a precargar los scripts con   \n",
    "`%load <NAME_OF_THE_FILE>.py` en este caso:  \n",
    "`%load debugging_scripts.py`\n",
    "esto resultará en una nueva celda con el código que tenemos en el archivo, estas funciones ahora pueden ser utilizadas en nuestro notebook actual, sin tener que reescribirlas y a demás podemos utilizarlas en multiples notebooks a la vez."
   ]
  },
  {
   "cell_type": "code",
   "execution_count": 4,
   "metadata": {},
   "outputs": [
    {
     "ename": "NameError",
     "evalue": "name 'last_vale' is not defined",
     "output_type": "error",
     "traceback": [
      "\u001b[0;31m---------------------------------------------------------------------------\u001b[0m",
      "\u001b[0;31mNameError\u001b[0m                                 Traceback (most recent call last)",
      "\u001b[0;32m<ipython-input-4-47331f8d2d2a>\u001b[0m in \u001b[0;36m<module>\u001b[0;34m\u001b[0m\n\u001b[1;32m      9\u001b[0m     \u001b[0;32mreturn\u001b[0m \u001b[0mresult\u001b[0m\u001b[0;34m\u001b[0m\u001b[0;34m\u001b[0m\u001b[0m\n\u001b[1;32m     10\u001b[0m \u001b[0;34m\u001b[0m\u001b[0m\n\u001b[0;32m---> 11\u001b[0;31m \u001b[0mfunctionB\u001b[0m\u001b[0;34m(\u001b[0m\u001b[0;36m33\u001b[0m\u001b[0;34m,\u001b[0m\u001b[0;36m88\u001b[0m\u001b[0;34m)\u001b[0m \u001b[0;31m# we are evaluating the funciton.\u001b[0m\u001b[0;34m\u001b[0m\u001b[0;34m\u001b[0m\u001b[0m\n\u001b[0m",
      "\u001b[0;32m<ipython-input-4-47331f8d2d2a>\u001b[0m in \u001b[0;36mfunctionB\u001b[0;34m(first_val, last_val)\u001b[0m\n\u001b[1;32m      5\u001b[0m \u001b[0;34m\u001b[0m\u001b[0m\n\u001b[1;32m      6\u001b[0m \u001b[0;32mdef\u001b[0m \u001b[0mfunctionB\u001b[0m\u001b[0;34m(\u001b[0m\u001b[0mfirst_val\u001b[0m\u001b[0;34m=\u001b[0m\u001b[0;36m23\u001b[0m\u001b[0;34m,\u001b[0m \u001b[0mlast_val\u001b[0m\u001b[0;34m=\u001b[0m\u001b[0;36m72\u001b[0m\u001b[0;34m)\u001b[0m\u001b[0;34m:\u001b[0m\u001b[0;34m\u001b[0m\u001b[0;34m\u001b[0m\u001b[0m\n\u001b[0;32m----> 7\u001b[0;31m     \u001b[0mresponse\u001b[0m \u001b[0;34m=\u001b[0m \u001b[0mfuncA\u001b[0m\u001b[0;34m(\u001b[0m\u001b[0mfirst_val\u001b[0m\u001b[0;34m,\u001b[0m \u001b[0mlast_vale\u001b[0m\u001b[0;34m)\u001b[0m\u001b[0;34m\u001b[0m\u001b[0;34m\u001b[0m\u001b[0m\n\u001b[0m\u001b[1;32m      8\u001b[0m     \u001b[0mresult\u001b[0m \u001b[0;34m=\u001b[0m \u001b[0mresponse\u001b[0m \u001b[0;34m*\u001b[0m \u001b[0mfirst_val\u001b[0m \u001b[0;34m/\u001b[0m \u001b[0;36m7\u001b[0m\u001b[0;34m\u001b[0m\u001b[0;34m\u001b[0m\u001b[0m\n\u001b[1;32m      9\u001b[0m     \u001b[0;32mreturn\u001b[0m \u001b[0mresult\u001b[0m\u001b[0;34m\u001b[0m\u001b[0;34m\u001b[0m\u001b[0m\n",
      "\u001b[0;31mNameError\u001b[0m: name 'last_vale' is not defined"
     ]
    }
   ],
   "source": [
    "# %load debugging_scripts.py\n",
    "def funcA(first_val, second_val):\n",
    "    result = (first_val*2) - (second_val/4)\n",
    "    return result\n",
    "\n",
    "def functionB(first_val=23, last_val=72):\n",
    "    response = funcA(first_val, last_vale)\n",
    "    result = response * first_val / 7\n",
    "    return result\n",
    "    \n",
    "functionB(33,88) # we are evaluating the funciton."
   ]
  },
  {
   "cell_type": "code",
   "execution_count": null,
   "metadata": {},
   "outputs": [],
   "source": []
  },
  {
   "cell_type": "markdown",
   "metadata": {},
   "source": [
    "## Ejecución paso a paso y Breakpoints"
   ]
  },
  {
   "cell_type": "markdown",
   "metadata": {},
   "source": [
    "### BreakPoints\n",
    "Normalmente, cuando ejecuta un código, incluso con ayuda del debugger, se iniciará al comienzo del programa y se ejecutará hasta su finalización o hasta que ocurra un error.\n",
    "\n",
    "A menudo podemos notar que el error ocurre en determinada función o linea del código, pero el código no utiliza esa función hasta mucho después del inicio del programa. Los breakpoints le dicen al debugger dónde \"detener\" la ejecución del programa para que podamos ver lo que está sucediendo. Esto nos permite llegar rápidamente a la ubicación adecuada en el código o bien para saber que sucede justo antes del error."
   ]
  },
  {
   "cell_type": "markdown",
   "metadata": {},
   "source": [
    "#### PDB"
   ]
  },
  {
   "cell_type": "markdown",
   "metadata": {},
   "source": [
    "La primera herramienta que vamos a probar es pdb, esta biblioteca nos ayudará a poner una interrupción en el código y luego poder ejecutar paso a paso, para ello vamos a utilizar el comando: `pdb.set_trace()`  \n",
    "y luego podremos inspeccionar las variables en el contexto actual, ingresando el nombre de la variable, por ejemplo `first_val` o dar un paso más en la ejecución escribiendo `n`.  \n",
    "Para continuar con la ejecución del script escribimos `c` y de esta forma saldremos de la interrupción.\n",
    "Para poder crear un nuevo break point, una vez que la ejecución se pausó, debemos escribir:\n",
    "`break <NUMERO_DE_LINEA>`  \n",
    "en este caso podemos poner `break 4`  \n",
    "y luego vamos a escribir `c`, para continuar con la ejecución, con lo cual podremos notar que se vuelve a pausar en la linea 4 del código.  \n",
    "Si queremos borrar los breakpoints que se establecieron podemos escribir `clear` o `clear <BREAKPOINT_NUM>` para borrar uno en específico.\n",
    "Finalmente para salir del modo interrumpido podemos escribir `q`.  "
   ]
  },
  {
   "cell_type": "code",
   "execution_count": null,
   "metadata": {},
   "outputs": [],
   "source": [
    "import pdb\n",
    "pdb.set_trace()\n",
    "first_val = 45\n",
    "last_val = 90\n",
    "breakpoint() # Esta es otra forma de escribir un breakpoint\n",
    "response = functionB(first_val, last_val)\n",
    "result = response * first_val / 7\n",
    "return result"
   ]
  },
  {
   "cell_type": "markdown",
   "metadata": {},
   "source": [
    "Algo muy importante que debemos saber al momento de interrumpir el código es que estamos dentro del contexto y podremos llamar a todo lo que esté dentro de el, sin embargo si necesitamos más herramientas que estén fuera de el, podemos hacerlo con imports, tal y como lo haríamos si el código se estuviese ejecutando desde un archivo."
   ]
  },
  {
   "cell_type": "markdown",
   "metadata": {},
   "source": [
    "Otra forma de hacer debugging es la que nos proporciona el IDE que estemos utilizando, esta es mucho más gráfica y puede que tenga aún más opciones de ejecución, para ello vamos a utilizar Pycharm y sus herramientas."
   ]
  },
  {
   "cell_type": "code",
   "execution_count": null,
   "metadata": {},
   "outputs": [],
   "source": []
  },
  {
   "cell_type": "markdown",
   "metadata": {},
   "source": [
    "## Highligts"
   ]
  },
  {
   "cell_type": "markdown",
   "metadata": {},
   "source": [
    "* Los loggers son una parte importante del debugging debido a que pueden darnos más información de lo que sucedio y poder reproducir el error."
   ]
  },
  {
   "cell_type": "markdown",
   "metadata": {},
   "source": [
    "## Bibliografía"
   ]
  },
  {
   "cell_type": "markdown",
   "metadata": {},
   "source": [
    "https://docs.python.org/3/library/pdb.html pdb — The Python Debugger 2019"
   ]
  },
  {
   "cell_type": "markdown",
   "metadata": {},
   "source": [
    "https://www.cs.utah.edu/~germain/PPS/Topics/debugging_programs.html Debugging Programs "
   ]
  },
  {
   "cell_type": "code",
   "execution_count": null,
   "metadata": {},
   "outputs": [],
   "source": []
  }
 ],
 "metadata": {
  "kernelspec": {
   "display_name": "Python 3",
   "language": "python",
   "name": "python3"
  },
  "language_info": {
   "codemirror_mode": {
    "name": "ipython",
    "version": 3
   },
   "file_extension": ".py",
   "mimetype": "text/x-python",
   "name": "python",
   "nbconvert_exporter": "python",
   "pygments_lexer": "ipython3",
   "version": "3.7.4"
  }
 },
 "nbformat": 4,
 "nbformat_minor": 4
}
