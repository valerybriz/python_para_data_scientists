{
 "cells": [
  {
   "cell_type": "markdown",
   "metadata": {},
   "source": [
    "# Paralelización y concurrencia"
   ]
  },
  {
   "cell_type": "markdown",
   "metadata": {},
   "source": [
    "## Objetivos"
   ]
  },
  {
   "cell_type": "markdown",
   "metadata": {},
   "source": [
    "* Paralelizar una función con multiprocesos\n",
    "* Paralelizar una función con multithreading\n",
    "* Entender la diferencia entre multiprocesos y multithreading\n"
   ]
  },
  {
   "cell_type": "markdown",
   "metadata": {},
   "source": [
    " ## Introducción "
   ]
  },
  {
   "cell_type": "markdown",
   "metadata": {},
   "source": [
    "### Multiprocesamiento \n",
    "El multiprocesamiento es un sistema que tiene más de uno o dos procesadores. En Multiprocesamiento, se agregan CPU para aumentar la velocidad de cómputo del sistema. Debido al multiprocesamiento, hay muchos procesos que se ejecutan simultáneamente. El multiprocesamiento se clasifica en dos categorías:  \n",
    "Multiprocesamiento síncrono y Multiprocesamiento asíncrono.\n",
    "  \n",
    "![title](https://media.geeksforgeeks.org/wp-content/uploads/20190522151746/Untitled-Diagram-341.png)\n",
    "  \n",
    "## Multithreading   \n",
    "Multithreading es un sistema en el que se crean múltiples subprocesos de un proceso para aumentar la velocidad informática del sistema. En subprocesos múltiples, muchos subprocesos de un proceso se ejecutan simultáneamente y la creación de procesos en subprocesos múltiples se realiza de forma económica.  \n",
    "\n",
    "![title](https://media.geeksforgeeks.org/wp-content/uploads/20190522151811/Untitled-Diagram-351.png)\n",
    "\n",
    "En multiprocesamiento, se agregan CPU's para aumentar la potencia computacional, mientras que en multithreading, se crean muchos subprocesos de un solo proceso para aumentar la potencia computacional.\n",
    "\n",
    "Sin el multiprocesamiento, los programas de Python tienen problemas para maximizar las especificaciones de su sistema debido al GIL (Global Interpreter Lock). Python no fue diseñado teniendo en cuenta que las computadoras personales pueden tener más de un core (muestra la antigüedad del lenguaje), por lo que el GIL es necesario porque Python no es seguro para subprocesos y hay un bloqueo forzado globalmente al acceder a un objeto Python. Aunque no es perfecto, es un mecanismo bastante efectivo para la gestión de la memoria.  \n",
    "\n",
    "El multiprocesamiento nos permite crear programas que pueden ejecutarse simultáneamente (sin pasar por el GIL) y utilizar la totalidad del core del CPU. Aunque es fundamentalmente diferente de la biblioteca de threading, la sintaxis es bastante similar. La biblioteca de multiprocesamiento le da a cada proceso su propio intérprete de Python y cada uno su propio GIL.\n",
    "\n",
    "Debido a esto, los problemas habituales asociados con el threading (como la data corruption y los death point) ya no son un problema. Como los procesos no comparten memoria, no pueden modificar la misma memoria simultáneamente.\n",
    "\n"
   ]
  },
  {
   "cell_type": "markdown",
   "metadata": {},
   "source": [
    "Para entender un poco más sobre como funcionan ambos vamos a utlizar la biblioteca \"Parallel\" que nos permite paralelizar funciones con multiproceso o bien con multithreading para más información podemos encontrarla en [este link](https://python-parallel.readthedocs.io/en/latest/)"
   ]
  },
  {
   "cell_type": "markdown",
   "metadata": {},
   "source": [
    "Para el siguiente ejemplo vamos a guardar el siguiente código en un archivo python y vamos a crear un nuevo ambiente virtual e instalar la biblioteca parallel con el comando:  \n",
    "`pip3 install parallel`"
   ]
  },
  {
   "cell_type": "code",
   "execution_count": null,
   "metadata": {},
   "outputs": [],
   "source": [
    "import parallel\n",
    "import requests\n",
    "\n",
    "def guardar_en_archivo(texto):\n",
    "    with open(\"datos.txt\", \"w\") as my_file:\n",
    "        my_file.write(texto)\n",
    "        \n",
    "# Con este decorador indicamos que queremos \n",
    "# convertir la función en una función paralela\n",
    "@parallel.decorate \n",
    "def descargar_y_guardar(url):\n",
    "    resp = requests.get(url)\n",
    "    result = guardar_en_archivo(resp.json())\n",
    "    return result\n",
    "\n",
    "if __name__ == '__main__':\n",
    "    urls = [\n",
    "        'https://python.org',\n",
    "        'https://python-requests.com',\n",
    "        'https://rmotr.com'\n",
    "    ]\n",
    "    # paralelizmo, por default usará Threads\n",
    "    results = descargar_y_guardar.map(urls, timeout=5, max_workers=4)\n",
    "    print(results)"
   ]
  },
  {
   "cell_type": "markdown",
   "metadata": {},
   "source": [
    "Otra forma de paralelizar es utilizando la biblioteca por default de multiprocesos como podemos ver en el siguiente código:"
   ]
  },
  {
   "cell_type": "code",
   "execution_count": 11,
   "metadata": {},
   "outputs": [
    {
     "name": "stdout",
     "output_type": "stream",
     "text": [
      "[1, 4, 9, 16, 25, 36, 49, 64, 81, 100]\n"
     ]
    }
   ],
   "source": [
    "from multiprocessing import Pool\n",
    "\n",
    "def f(x):\n",
    "    return x*x\n",
    "\n",
    "\n",
    "with Pool(5) as p:\n",
    "    print(p.map(f, [1,2,3,4,5,6,7,8,9,10]))"
   ]
  },
  {
   "cell_type": "markdown",
   "metadata": {},
   "source": [
    "Parallel también nos permite ejecutar funciones de manera asyncrona de la siguiente forma:"
   ]
  },
  {
   "cell_type": "code",
   "execution_count": null,
   "metadata": {},
   "outputs": [],
   "source": [
    "@parallel.decorate\n",
    "def get_especie_planta(texto):\n",
    "    print(f\"rosa: {texto}\")\n",
    "\n",
    "@parallel.decorate\n",
    "def get_especie_animal(texto):\n",
    "    print(f\"leon: {texto}\")\n",
    "\n",
    "@parallel.decorate\n",
    "def get_especie_insecto(texto):\n",
    "    print(f\"abeja: {texto}\")\n",
    "\n",
    "functions = {\n",
    "    'planta': get_especie_planta.future('roja'),\n",
    "    'animal': get_especie_animal.future('amarillo'),\n",
    "    'insecto': get_especie_insecto.future('café'),\n",
    "}\n",
    "with parallel.async_par(functions, max_workers=5) as ex:\n",
    "    print(\" iniciamos la ejecución\")\n",
    "    resultados = ex.results(timeout=4)\n",
    "    print(\"terminamos la ejecución\")"
   ]
  },
  {
   "cell_type": "markdown",
   "metadata": {},
   "source": [
    "## Highligts"
   ]
  },
  {
   "cell_type": "markdown",
   "metadata": {},
   "source": [
    "La biblioteca **Parallel** utiliza decoradores para su escritura en el código, para más información sobre como funcionan los decoradores podemos ingresar a [este link](https://realpython.com/primer-on-python-decorators/)"
   ]
  },
  {
   "cell_type": "markdown",
   "metadata": {},
   "source": [
    "## Bibliografía"
   ]
  },
  {
   "cell_type": "markdown",
   "metadata": {},
   "source": [
    "https://docs.python.org/3/library/concurrency.html Concurrent Execution 2019"
   ]
  },
  {
   "cell_type": "markdown",
   "metadata": {},
   "source": [
    "https://docs.python.org/3.7/library/multiprocessing.html Process-based parallelism 2019"
   ]
  },
  {
   "cell_type": "code",
   "execution_count": null,
   "metadata": {},
   "outputs": [],
   "source": []
  }
 ],
 "metadata": {
  "kernelspec": {
   "display_name": "Python 3",
   "language": "python",
   "name": "python3"
  },
  "language_info": {
   "codemirror_mode": {
    "name": "ipython",
    "version": 3
   },
   "file_extension": ".py",
   "mimetype": "text/x-python",
   "name": "python",
   "nbconvert_exporter": "python",
   "pygments_lexer": "ipython3",
   "version": "3.7.4"
  }
 },
 "nbformat": 4,
 "nbformat_minor": 4
}
