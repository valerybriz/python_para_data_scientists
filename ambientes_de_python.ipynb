{
 "cells": [
  {
   "cell_type": "markdown",
   "metadata": {},
   "source": [
    "# Ambientes de Python"
   ]
  },
  {
   "cell_type": "markdown",
   "metadata": {},
   "source": [
    "## Objetivos"
   ]
  },
  {
   "cell_type": "markdown",
   "metadata": {},
   "source": [
    "* Instalar la versión de python necesaria\n",
    "* Tener varias versiones de python a la vez\n",
    "* Aislar un ambiente de trabajo de otro\n",
    "* Ser capaz de instalar las dependencias necesarias para un script en un ambiente nuevo"
   ]
  },
  {
   "cell_type": "markdown",
   "metadata": {},
   "source": [
    " ## Introducción "
   ]
  },
  {
   "cell_type": "markdown",
   "metadata": {},
   "source": [
    "Las aplicaciones en Python usualmente hacen uso de paquetes y módulos que no forman parte de la librería estándar. Las aplicaciones a veces necesitan una versión específica de una librería, debido a que dicha aplicación requiere que un bug particular haya sido solucionado o bien la aplicación ha sido escrita usando una versión obsoleta de la interface de la librería.\n",
    "\n",
    "Esto significa que tal vez no sea posible para una instalación de Python cumplir los requerimientos de todas las aplicaciones. Si la aplicación A necesita la versión 1.0 de un módulo particular y la aplicación B necesita la versión 2.0, entonces los requerimientos entran en conflicto e instalar la versión 1.0 o 2.0 dejará una de las aplicaciones sin funcionar.\n",
    "\n",
    "La solución a este problema es crear un ambiente virtual, un directorio que contiene una instalación de Python de una versión en particular, además de unos cuantos paquetes adicionales.\n",
    "\n",
    "## Ambientes Virtuales\n",
    "\n",
    "Primero debemos instalar la biblioteca de virtual environments:  \n",
    "`pip3 install virtualenv`  ó `python3 -m pip install virtualenv`\n",
    "\n",
    "Para crear un nuevo ambiente ejecutamos:  \n",
    "`python3 -m venv mi-ambiente`  \n",
    "En este comando le estamos diciendo a python que queremos crear un nuevo ambiente que tendrá por nombre \"mi-ambiente\"\n",
    "\n",
    "Una vez creado podemos activarlo de la siguiente forma:  \n",
    "* En windows  \n",
    "`mi-ambiente\\Scripts\\activate.bat`  \n",
    "* En Unix/MacOS\n",
    "`source mi-ambiente/bin/activate`  \n",
    "\n",
    "Ahora para comprobar la versión de Python que tenemos en el ambiente podemos ejecutar:  \n",
    "`python --version`  \n",
    "si este comando nos retorna un python version 2.7.x entonces debemos comprobar si tenemos también la versión 3 instalada en el entorno para usar esa en su lugar:  \n",
    "`python3 --version`  \n",
    "\n",
    "Para salir del ambiente ejecutamos el comando `deactivate`  \n",
    "\n",
    "si quisieramos tener multiples versiones de python 3.x y de python 2.x es necesario que utilicemos un manejador de versiones, el más popular es **pyenv** para más información sobre su instalación y uso podemos ir a [este link](https://github.com/pyenv/pyenv).  \n",
    "\n",
    "Una alternativa a el manejador de ambientes (VENV) por default de Python es pipenv, sin embargo en esta ocasión no vamos a efocarnos en el, para más información sobre pipenv podemos ir a [este link](https://pipenv-es.readthedocs.io/es/latest/).\n"
   ]
  },
  {
   "cell_type": "markdown",
   "metadata": {},
   "source": [
    " \n",
    "    \n",
    "Lo siguiente que haremos será instalar una biblioteca de python, esto lo hacemos como normalmente a travéz de `pip`:  \n",
    "`pip3 install requests`\n",
    "\n",
    "Para instalar versiones especificas debemos agregar el número de versión que queremos:  \n",
    "`pip3 install requests==2.18.4`\n",
    "\n",
    "Ahora bien, si queremos guardar un listado de todas las bibliotecas que utilizamos en este ambiente en un archivo de texto debemos ejecutar:  \n",
    "`pip freeze > requirements.txt`  \n",
    "\n",
    "Y ahora para instalar ese mismo listado en un ambiente distinto, al estar dentro del nuevo ambiente debemos ejecutar:  \n",
    "`pip install -r requirements.txt`  "
   ]
  },
  {
   "cell_type": "markdown",
   "metadata": {},
   "source": [
    "Ejercicio:  \n",
    "    Crea tu propio ambiente e instala 3 bibliotecas luego guarda ese listado en un archivo de requirements.txt y utilizalo para inicializar un segundo ambiente."
   ]
  },
  {
   "cell_type": "code",
   "execution_count": null,
   "metadata": {},
   "outputs": [],
   "source": []
  },
  {
   "cell_type": "markdown",
   "metadata": {},
   "source": [
    "## Highligts"
   ]
  },
  {
   "cell_type": "markdown",
   "metadata": {},
   "source": [
    " Si aún no tienen instalado `pip` es necesario ejecutar lo siguiente:\n",
    "    `python3 -m pip install --upgrade pip`"
   ]
  },
  {
   "cell_type": "markdown",
   "metadata": {},
   "source": [
    "## Bibliografía"
   ]
  },
  {
   "cell_type": "markdown",
   "metadata": {},
   "source": [
    "https://docs.python.org/3/tutorial/venv.html Virtual Environments and Packages 2019"
   ]
  },
  {
   "cell_type": "code",
   "execution_count": null,
   "metadata": {},
   "outputs": [],
   "source": []
  }
 ],
 "metadata": {
  "kernelspec": {
   "display_name": "Python 3",
   "language": "python",
   "name": "python3"
  },
  "language_info": {
   "codemirror_mode": {
    "name": "ipython",
    "version": 3
   },
   "file_extension": ".py",
   "mimetype": "text/x-python",
   "name": "python",
   "nbconvert_exporter": "python",
   "pygments_lexer": "ipython3",
   "version": "3.7.4"
  }
 },
 "nbformat": 4,
 "nbformat_minor": 4
}
